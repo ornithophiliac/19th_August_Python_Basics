{
 "cells": [
  {
   "cell_type": "markdown",
   "id": "454f7d1a-86f7-491a-ae9a-1ede48f576a9",
   "metadata": {},
   "source": [
    "1. Declare two variables, `x` and `y`, and assign them integer values. Swap the\n",
    "values of these variables without using any temporary variable."
   ]
  },
  {
   "cell_type": "code",
   "execution_count": 1,
   "id": "411f672d-16fc-495d-b5df-3b6d746d1d22",
   "metadata": {},
   "outputs": [],
   "source": [
    "x=23"
   ]
  },
  {
   "cell_type": "code",
   "execution_count": 2,
   "id": "b1c6b08d-5b38-46e9-9024-f19448dcda0f",
   "metadata": {},
   "outputs": [],
   "source": [
    "y=34"
   ]
  },
  {
   "cell_type": "code",
   "execution_count": 3,
   "id": "73283263-9433-49ac-be13-67d34ec94be2",
   "metadata": {},
   "outputs": [],
   "source": [
    "x=x+y"
   ]
  },
  {
   "cell_type": "code",
   "execution_count": 4,
   "id": "f743fc15-de5d-4c4e-91c9-434afce0871d",
   "metadata": {},
   "outputs": [],
   "source": [
    "y=x-y"
   ]
  },
  {
   "cell_type": "code",
   "execution_count": 5,
   "id": "db75b7ba-b08f-45d8-abe7-dfe258618dc9",
   "metadata": {},
   "outputs": [],
   "source": [
    "x=x-y"
   ]
  },
  {
   "cell_type": "code",
   "execution_count": 6,
   "id": "b2aede13-fe74-4bca-92db-8830c8ea4752",
   "metadata": {},
   "outputs": [
    {
     "data": {
      "text/plain": [
       "34"
      ]
     },
     "execution_count": 6,
     "metadata": {},
     "output_type": "execute_result"
    }
   ],
   "source": [
    "x"
   ]
  },
  {
   "cell_type": "code",
   "execution_count": 7,
   "id": "4b037c58-c442-49ca-be38-3f32b5b2461e",
   "metadata": {},
   "outputs": [
    {
     "data": {
      "text/plain": [
       "23"
      ]
     },
     "execution_count": 7,
     "metadata": {},
     "output_type": "execute_result"
    }
   ],
   "source": [
    "y"
   ]
  },
  {
   "cell_type": "markdown",
   "id": "ac221d4c-0718-42ee-835e-979797c84f3a",
   "metadata": {},
   "source": [
    "2. Create a program that calculates the area of a rectangle. Take the length and\n",
    "width as inputs from the user and store them in variables. Calculate and\n",
    "display the area."
   ]
  },
  {
   "cell_type": "code",
   "execution_count": 11,
   "id": "9f5e2e90-c668-4ee9-a0dc-335428cd8059",
   "metadata": {},
   "outputs": [
    {
     "name": "stdin",
     "output_type": "stream",
     "text": [
      "what is the length of rectangle:  36\n"
     ]
    }
   ],
   "source": [
    "l=float(input(\"what is the length of rectangle: \"))"
   ]
  },
  {
   "cell_type": "code",
   "execution_count": 12,
   "id": "729f73ad-6f52-48ba-81f3-794c9d02da20",
   "metadata": {},
   "outputs": [
    {
     "name": "stdin",
     "output_type": "stream",
     "text": [
      "what is the width of rectangle:  45\n"
     ]
    }
   ],
   "source": [
    "w=float(input(\"what is the width of rectangle: \"))"
   ]
  },
  {
   "cell_type": "code",
   "execution_count": 13,
   "id": "0c6dbea9-2718-4b2f-9060-35db8d59b7d6",
   "metadata": {},
   "outputs": [],
   "source": [
    "area=l*w\n",
    "\n"
   ]
  },
  {
   "cell_type": "code",
   "execution_count": 14,
   "id": "b4f2c4be-1c42-49bf-8b2b-47e2397bc11f",
   "metadata": {},
   "outputs": [
    {
     "data": {
      "text/plain": [
       "1620.0"
      ]
     },
     "execution_count": 14,
     "metadata": {},
     "output_type": "execute_result"
    }
   ],
   "source": [
    "area"
   ]
  },
  {
   "cell_type": "markdown",
   "id": "4dc1e2d3-e09d-483c-bafe-fda970e4b245",
   "metadata": {},
   "source": [
    "3. Write a Python program that converts temperatures from Celsius to\n",
    "Fahrenheit. Take the temperature in Celsius as input, store it in a variable,\n",
    "convert it to Fahrenheit, and display the result.\n"
   ]
  },
  {
   "cell_type": "code",
   "execution_count": 1,
   "id": "a68d1ea8-ad68-4586-8af9-21f936109af3",
   "metadata": {},
   "outputs": [
    {
     "name": "stdin",
     "output_type": "stream",
     "text": [
      "what is the temperature in celsius?  36\n"
     ]
    }
   ],
   "source": [
    "c=float(input(\"what is the temperature in celsius? \"))"
   ]
  },
  {
   "cell_type": "code",
   "execution_count": 2,
   "id": "411e57e5-843f-45eb-954a-5c5714764879",
   "metadata": {},
   "outputs": [],
   "source": [
    "temperature=(c * 9/5) + 32"
   ]
  },
  {
   "cell_type": "code",
   "execution_count": 3,
   "id": "34bec4a8-3edd-4555-bca6-392fdec5920f",
   "metadata": {},
   "outputs": [
    {
     "data": {
      "text/plain": [
       "96.8"
      ]
     },
     "execution_count": 3,
     "metadata": {},
     "output_type": "execute_result"
    }
   ],
   "source": [
    "temperature"
   ]
  },
  {
   "cell_type": "markdown",
   "id": "c5921040-5719-4c18-9657-70cf608b3466",
   "metadata": {},
   "source": [
    "TOPIC: String Based Questions\n"
   ]
  },
  {
   "cell_type": "markdown",
   "id": "893016e7-7d61-46bf-ba81-051b6e772d23",
   "metadata": {},
   "source": [
    "1. Write a Python program that takes a string as input and prints the length of\n",
    "the string."
   ]
  },
  {
   "cell_type": "markdown",
   "id": "c2cb89ac-2842-4657-a056-62a51fb42cee",
   "metadata": {},
   "source": [
    "a=str(input(\"Enter a string\"))"
   ]
  },
  {
   "cell_type": "code",
   "execution_count": 6,
   "id": "8cf12155-62a0-4d29-a802-8edbb1a1e749",
   "metadata": {},
   "outputs": [],
   "source": [
    "b=len(a)"
   ]
  },
  {
   "cell_type": "code",
   "execution_count": 7,
   "id": "f7ee5ce6-cdf9-4cfc-9ec6-d3bde12be019",
   "metadata": {},
   "outputs": [
    {
     "data": {
      "text/plain": [
       "16"
      ]
     },
     "execution_count": 7,
     "metadata": {},
     "output_type": "execute_result"
    }
   ],
   "source": [
    "b"
   ]
  },
  {
   "cell_type": "markdown",
   "id": "6c23cecf-ceae-4369-b787-0e724a9a7ed5",
   "metadata": {},
   "source": [
    "2. Create a program that takes a sentence from the user and counts the number\n",
    "of vowels (a, e, i, o, u) in the string."
   ]
  },
  {
   "cell_type": "code",
   "execution_count": 8,
   "id": "22512ae8-7dfe-4141-ac2b-9756c60adc6e",
   "metadata": {},
   "outputs": [
    {
     "name": "stdin",
     "output_type": "stream",
     "text": [
      "Enter the sentence My name is mukul tanaji kendre\n"
     ]
    }
   ],
   "source": [
    "sentence=input(\"Enter the sentence\")"
   ]
  },
  {
   "cell_type": "code",
   "execution_count": 9,
   "id": "44397eb4-6279-4e88-b043-3498024d6190",
   "metadata": {},
   "outputs": [],
   "source": [
    "sentence=sentence.lower()"
   ]
  },
  {
   "cell_type": "code",
   "execution_count": 10,
   "id": "56aad3d1-c4d0-4027-9179-91258bb0bc58",
   "metadata": {},
   "outputs": [],
   "source": [
    "vowel_count=0"
   ]
  },
  {
   "cell_type": "code",
   "execution_count": 13,
   "id": "8b00bf03-3a2d-4c6f-b36e-55a79f49ad48",
   "metadata": {},
   "outputs": [],
   "source": [
    "for char in sentence:\n",
    "    if char in \"aeiou\":\n",
    "        vowel_count+=1"
   ]
  },
  {
   "cell_type": "code",
   "execution_count": 14,
   "id": "2ac49e7c-1671-4cff-93f4-0a86ed3481dc",
   "metadata": {},
   "outputs": [
    {
     "data": {
      "text/plain": [
       "10"
      ]
     },
     "execution_count": 14,
     "metadata": {},
     "output_type": "execute_result"
    }
   ],
   "source": [
    "vowel_count"
   ]
  },
  {
   "cell_type": "markdown",
   "id": "2fc3efd0-ab3d-436e-961c-915f2d850d20",
   "metadata": {},
   "source": [
    "3. Given a string, reverse the order of characters using string slicing and print\n",
    "the reversed string.\n"
   ]
  },
  {
   "cell_type": "code",
   "execution_count": 16,
   "id": "3e4a96b3-fa10-4e77-8534-f8dc6e10801b",
   "metadata": {},
   "outputs": [
    {
     "name": "stdin",
     "output_type": "stream",
     "text": [
      "Enter a string abadabajaba\n"
     ]
    }
   ],
   "source": [
    "string=input(\"Enter a string\")"
   ]
  },
  {
   "cell_type": "code",
   "execution_count": 17,
   "id": "9c8675a1-4eff-4386-a5d9-fbbb2553a990",
   "metadata": {},
   "outputs": [],
   "source": [
    "reversed_string=string[::-1]"
   ]
  },
  {
   "cell_type": "code",
   "execution_count": 18,
   "id": "b53fb00a-8747-4d97-8262-481fdfd8a1ef",
   "metadata": {},
   "outputs": [
    {
     "data": {
      "text/plain": [
       "'abajabadaba'"
      ]
     },
     "execution_count": 18,
     "metadata": {},
     "output_type": "execute_result"
    }
   ],
   "source": [
    "reversed_string"
   ]
  },
  {
   "cell_type": "markdown",
   "id": "b0e5efc8-7560-44e0-b5ab-4c71fc7cfeba",
   "metadata": {},
   "source": [
    "4. Write a program that takes a string as input and checks if it is a palindrome\n",
    "(reads the same forwards and backwards).\n"
   ]
  },
  {
   "cell_type": "code",
   "execution_count": 19,
   "id": "93da9071-6df6-4b06-bfe1-d59ffcfbfff5",
   "metadata": {},
   "outputs": [
    {
     "name": "stdin",
     "output_type": "stream",
     "text": [
      "enter the string malayalam\n"
     ]
    }
   ],
   "source": [
    "s=input(\"enter the string\")"
   ]
  },
  {
   "cell_type": "code",
   "execution_count": 20,
   "id": "ca93cfc0-a6c1-48cc-85f8-18b61d671597",
   "metadata": {},
   "outputs": [],
   "source": [
    "t=s.replace(\" \",\"\").lower()"
   ]
  },
  {
   "cell_type": "code",
   "execution_count": 21,
   "id": "1043708d-0cba-46b0-bba9-811ccb1be9c5",
   "metadata": {},
   "outputs": [],
   "source": [
    "r=t[::-1]"
   ]
  },
  {
   "cell_type": "code",
   "execution_count": 23,
   "id": "9a1c7f39-7121-4a8e-9eeb-0f3f7dbb4f9b",
   "metadata": {},
   "outputs": [
    {
     "name": "stdout",
     "output_type": "stream",
     "text": [
      "palindrome\n"
     ]
    }
   ],
   "source": [
    "if r==t:\n",
    "    print(\"palindrome\")\n",
    "else:\n",
    "    print(\"not a palindrome\")"
   ]
  },
  {
   "cell_type": "markdown",
   "id": "79c5b249-ff7e-4a85-aff3-e32380d59964",
   "metadata": {},
   "source": [
    "5. Create a program that takes a string as input and removes all the spaces from\n",
    "it. Print the modified string without spaces.\n"
   ]
  },
  {
   "cell_type": "code",
   "execution_count": 24,
   "id": "15882f4a-7046-4688-a28a-22a5f43b0cd0",
   "metadata": {},
   "outputs": [
    {
     "name": "stdin",
     "output_type": "stream",
     "text": [
      "enter the string mukul tanaji kendre at pwskills\n"
     ]
    }
   ],
   "source": [
    "m=input(\"enter the string\")"
   ]
  },
  {
   "cell_type": "code",
   "execution_count": 25,
   "id": "d0032a39-a019-4001-901a-cd8a0c9a6f3a",
   "metadata": {},
   "outputs": [],
   "source": [
    "e=m.replace(\" \",\"\").lower()"
   ]
  },
  {
   "cell_type": "code",
   "execution_count": 26,
   "id": "86f071c5-fd4f-4df1-b4bf-1e4f4edf36f4",
   "metadata": {},
   "outputs": [
    {
     "data": {
      "text/plain": [
       "'mukultanajikendreatpwskills'"
      ]
     },
     "execution_count": 26,
     "metadata": {},
     "output_type": "execute_result"
    }
   ],
   "source": [
    "e"
   ]
  },
  {
   "cell_type": "code",
   "execution_count": null,
   "id": "5b8b4f39-6a9a-4781-8403-9a50a97ec23f",
   "metadata": {},
   "outputs": [],
   "source": []
  }
 ],
 "metadata": {
  "kernelspec": {
   "display_name": "Python 3 (ipykernel)",
   "language": "python",
   "name": "python3"
  },
  "language_info": {
   "codemirror_mode": {
    "name": "ipython",
    "version": 3
   },
   "file_extension": ".py",
   "mimetype": "text/x-python",
   "name": "python",
   "nbconvert_exporter": "python",
   "pygments_lexer": "ipython3",
   "version": "3.10.8"
  }
 },
 "nbformat": 4,
 "nbformat_minor": 5
}
